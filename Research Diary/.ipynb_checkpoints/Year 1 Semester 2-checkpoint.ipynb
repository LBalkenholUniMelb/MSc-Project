{
 "cells": [
  {
   "cell_type": "markdown",
   "metadata": {},
   "source": [
    "# Year 1 Semester 2 Research Diary\n",
    "\n",
    "------------------------------------------------------"
   ]
  },
  {
   "cell_type": "markdown",
   "metadata": {},
   "source": [
    "## Until 02/08/2017\n",
    "\n",
    "The produced code is able to create white noise and convolute it with CMB data. The resulting map is close to what is observed. Efforts to recreate a scan strategy and dissect the map into bolometer signals have been made. However when recompressed into a map there is a substantial difference to the original map, indicating an error somewhere during the dissection and reconstrusction.\n",
    "\n",
    "The code to create the CMB map works in the following way:\n",
    "\n",
    "1. Define map parameters. We choose a square map of 2048\" sidelength.\n",
    "1. Read in CMB data. Specifically target $l$ and $D_l$ values, which are the first and second column of the provided in the file *for_lennart/plik_plus_r0p01_highell_lensedtotCls.dat* respectively. Then use $C_l = \\frac{2 \\pi D_l}{l(l+1)}$ to get $C_l$ values for further analysis.\n",
    "1. Turn obtained $C_l$ values into a 2D array.\n",
    "    1. Create wavevectors along each dimension for provided map parameters.\n",
    "    1. Tile wavevectors to get 2D versions.\n",
    "    1. Use $C_l = \\sqrt{k_x^2+k_y^2}$ to populate two dimensional $C_l$ array.\n",
    "1. Create noise in Fourier space.\n",
    "1. Add signal via $\\mathrm{CMB} = \\sqrt{C_l \\frac{df}{2}} \\times (\\mathrm{realnoise} + i \\times \\mathrm{imaginarynoise})$\n",
    "1. Inverse FFT to get the real map, but only keep a quarter\n",
    "\n",
    "The code produces CMB maps that look like the following. Note that creating the 2D version of $C_l$ is computationally expensive and hence the array was only computed once, then saved and is now loaded. Since this is purely the CMB signal and does not contain noise yet this is adequate.\n",
    "\n",
    "<img src = \"../cosmologydigitisation/Plots/21082017/cmbnoisefourier.png\">"
   ]
  },
  {
   "cell_type": "markdown",
   "metadata": {},
   "source": [
    "## 03/08/2017\n",
    "\n",
    "Meeting with Christian to discuss progress. Guidance on when to implement noise provided: either at the bolometer stage or when creating the map from its Fourier Transform, but not both.\n",
    "\n",
    "For the next meeting aim to:\n",
    "* Be able to recreate maps accurately, after decomposing them into bolometer signals and recombining them.\n",
    "* Check Parseval's Theorem.\n",
    "\n",
    "Agreed to schedule meetings more regularly and set clearer expectations."
   ]
  },
  {
   "cell_type": "markdown",
   "metadata": {},
   "source": [
    "## 08/08/2017 - 09/08/2017\n",
    "\n",
    "Data intensive astronomy workshop ADACS."
   ]
  },
  {
   "cell_type": "markdown",
   "metadata": {
    "collapsed": true
   },
   "source": [
    "## 10/08/2017\n",
    "\n",
    "Completed Version Control setup on personal laptop and university computer."
   ]
  },
  {
   "cell_type": "markdown",
   "metadata": {},
   "source": [
    "# 12/08/2017\n",
    "\n",
    "## Parseval's theorem\n",
    "\n",
    "We would like to confirm Parseval's theorem, which states that power is conserved when moving between real and frequency space. Expressed mathematically:\n",
    "\n",
    "$$\\sum_n |x(n)|^2 = \\frac{1}{N} \\sum_n |X(n)|^2,$$\n",
    "\n",
    "where $X(n)$ is the discrete Fourier transform of $x(n)$, both of length $N$. In our case we must carry out the summation over the entire image, i.e. two dimensions.\n",
    "\n",
    "Straightforward implementation of this confirms this for the CMB map. We immediately check this after applying the inverse Fourier transform. Confirmation of the above is less trivial for the finished map, as we cut the inverse Fourier transform output into a quarter. To check that Parseval's theorem still holds we draw many noise realisations, apply the inverse Fourier transform and compare the power to their corresponding maps in frequency space.\n",
    "\n",
    "\n",
    "\n",
    "```\n",
    "psvindex = range(100)\n",
    "powdiff = []\n",
    "\n",
    "for i in psvindex:\n",
    "    realpart = factor * normal(size=(pixelnumber, pixelnumber))\n",
    "    imagpart = factor * normal(size=(pixelnumber, pixelnumber))\n",
    "    cmbnoisefreqspace = (realpart + 1j * imagpart)\n",
    "    cmbnoisemap = fft.ifft2(cmbnoisefreqspace)[0:int(pixelnumber/2), 0:int(pixelnumber/2)]\n",
    "    psvfreq = real(sum(cmbnoisefreqspace * conjugate(cmbnoisefreqspace)))\n",
    "    psvreal = real(sum(cmbnoisemap * conjugate(cmbnoisemap))) * 4 * pixelnumber**2\n",
    "    powdiff.append((psvfreq-psvreal)/psvfreq)\n",
    "```\n",
    "\n",
    "We define $\\Delta P = (P_f-P_r)/P_f $ where $P$ indicates power and $f$ and $r$ Fourier and real space respectively. We plot $\\Delta P$ and show mean and standard deviation thereof below.\n",
    "\n",
    "<img src = \"../cosmologydigitisation/Plots/12082017/relativepowerdifference.png\">\n",
    "\n",
    "From the plot we see that the powers are consistent over many iterations, albeit the crude cutting of the real space map. We note that we must perform this check before throwing away the imaginary component of the real space map.\n",
    "\n",
    "We now check if power is conserved in Srini's powerspectrum code. This is not the case. We spot that the Fourier transform of the image is multiplied by the radial pixel resolution, which changes the power. We remove this extra factor and observe that Parseval's theorem is restored.\n",
    "\n",
    "To check whether power is conserved during the radial averaging process we must retain information about the number of pixels in each radial bin. We then check Parseval's theorem by multiplying each radial power by its bincount and then summing the results. We achieve a result that is appreciably close to the original power, but nevertheless different. Redefining $\\Delta P = (P_0-P_r)/P_0$ and drawing 100 realisations we observe the behaviour displayed below.\n",
    "\n",
    "<img src = \"../cosmologydigitisation/Plots/12082017/powerdiffradial.png\">\n",
    "\n",
    "The only explanation we can think of is that this is an effect due to lying circular bins over a rectangular image.\n",
    "\n",
    "## Recreating Scan Strategies appropriately\n",
    "\n",
    "We have previously found inconsistencies between a map and a copy of it, which was broken down into bolometer signals and then recompressed. We investigate this difference now.\n",
    "\n",
    "Recreation and Compression code runs extremely slow on laptop. Unsure how to improve this. We need to iterate over every pixel in the map to break it up into bolometer signals. We need to iterate over all bolometer signals to compress them correctly into the map again. We are unsure if taking the resolution down is appropriate, since it may not capture all CMB features appropriately. To check if the code is correct we take the number of bolometer signals that correspond to a map pixel down from 4000 to 120. This is done by changing the readout frequency from $500\\mathrm{Hz}$ to $6\\mathrm{Hz}$. We then formulate $\\Delta M = (M_0-M_r)/M_0$ where $M_0$ are elements of the original map and $M_r$ are elements of the map that has been expanded and compressed. The result is distinctly non-zero. However, $\\Delta M$ is very small and it appears to look like white noise. We check this by calculating its powerspectrum, which confirms this intuition. The relevant plots are shown below. Furthermore we confirm that the average of $\\Delta M$ is consistent with zero within one standard deviation.\n",
    "\n",
    "We therefore have confidence that the code written is correct. Perhaps the error experienced was due to including additional noise when recreating the scan strategy. Without doing this we are however unsure how a faithful digitisation would work that operates at timestream level.\n",
    "\n",
    "<img src = \"../cosmologydigitisation/Plots/12082017/mapdiff.png\">\n",
    "\n",
    "<img src = \"../cosmologydigitisation/Plots/12082017/mapdiffpower.png\">"
   ]
  },
  {
   "cell_type": "markdown",
   "metadata": {
    "collapsed": true
   },
   "source": [
    "# 15/08/2017\n",
    "\n",
    "Meeting with Christian. Discussed progress on Parseval's theorem and recreating the scan strategy. On Scan strategy everything's good, we're limited by `float64` precision. On Parseval's theorem a little puzzled by the difference induced when doing the radial averaging. Some issues are:\n",
    "\n",
    "* Power leaking into higher modes\n",
    "* Not all data points are hit by circular apertures\n",
    "\n",
    "For the next meeting adjust:\n",
    "\n",
    "* Mean of the Map = 0 $\\checkmark$\n",
    "* Check if apertures cover all of the map\n",
    "$\\checkmark$ <font color = \"Grey\"> They did not. This was due to the maximum bin not being set correctly. It used the maximum of the 1D wavevector, rather than the maximum of $\\sqrt{l_x^2+l_y^2}$. Adjusted this in a hacky way in Srini's code. After adjusting this Parseval's theorem is restored in the radial averaging.</font>\n",
    "* Apply a mask to the fft map and zero pad, account for this in PS by multiplying it by $1/\\mathrm{avg}(\\mathrm{mask}^2)$\n",
    "$\\checkmark$ <font color = \"Grey\"> Wrote a zeropad and a cosine mask function in python. cos mask is written as array multiplication to save time.</font>\n",
    "* Change noise to be induced at the time stream level, not in the first fourier transform instance (Noise is added by addition)\n",
    "    * Began work on this, creating the noise and adding it is trivial, but the raw cmb map does not look right. Powerspectrum doesnt look like it should either. But this is not fault of the powerspectrum code. The PS for the raw CMB image and one recreated from the tod without adding noise have the same PS. Therefore we must look at the creation of the raw cmb image.\n",
    "    * whats going on with the top left corner in the pure cmb map? Should this be the centre, but fftshift? on the $k_{x, y}$ values when creating CL2D maybe?\n",
    "    * Does not seem mathematically trivial that the two stages of noise addition should be equivalent\n",
    "* Increase map size to 20x20 degrees $\\checkmark$ <font color = \"Grey\">Actually have a 34x34 degree field at first, with 2 arcmin resolution.</font>\n",
    "* Compare powerspectrum in and powerspectrum out. Recreation: $\\checkmark$ <font color = \"Grey\">Leave rest of analysis until noise is sorted out.</font>\n",
    "\n",
    "$\\rightarrow$ Implementing the noise is challenging. While it seems conceptually logical that it should not matter whether we add noise in frequency or real space, they are not mathematically interchangable. The matching operation in real space is convolution. Perhaps for white noise however the convolution and addition are equivalent? This does not seem right however. This should be discussed during the next meeting. Until then, the relevant plots are below.\n",
    "\n",
    "IFFT of the pure CMB data, i.e. without noise.\n",
    "<img src = \"../cosmologydigitisation/Plots/21082017/cmbrealspace.png\">\n",
    "Noise via addition.\n",
    "<img src = \"../cosmologydigitisation/Plots/21082017/cmbnoiseaddedinreal.png\">\n",
    "Noise via concolution.\n",
    "<img src = \"../cosmologydigitisation/Plots/21082017/cmbnoisebyconvolution.png\">\n",
    "\n",
    "We notice that there are some artifacts to the convolution (stringiness), but it matches the desired features for a mock observation.\n",
    "\n",
    "Attempted at recreating the input Powerspectrum. Unsure whether to use $P_k$ or $P_k k(k+1)$. Neither shapes look correct.\n",
    "\n",
    "<img src = \"../cosmologydigitisation/Plots/21082017/pspk.png\">\n",
    "<img src = \"../cosmologydigitisation/Plots/21082017/pscl.png\">"
   ]
  },
  {
   "cell_type": "markdown",
   "metadata": {
    "collapsed": true
   },
   "source": [
    "## 25/08/2017\n",
    "\n",
    "Meeting with Christian. The mock observations is the addition of two gaussian random fields. The CMB and a Noise field. So the CMBNoise field must be added to another random field. This addition can either take place in real space or Fourier space. For good comparison we want to add 1 observed CMB map to N Noise maps to produce N observations. Then coadd (average, dont worry about weighting for now) the N produced maps and calculate the powerspectrum. When adding the noise we can potentially digitise.\n",
    "\n",
    "* How to set average & standard deviation of added noise? For now set average to 0 and standard deviation to the standard deviation of the CMB map.\n",
    "* Wrote code to create a CMB map, break it up into tod, create N mockobservations with added noise (can digitise here), then recompress into map, compare powerspectrum\n",
    "* Noticed white noise is not being displayed appropriately by powerspectrum code, this is due to applying the cosine mask\n",
    "\n",
    "The CMB maps PS is compared to the average of 10 maps with added noise below.\n",
    "\n",
    "<img src = \"../cosmologydigitisation/Plots/31082017/pscompare.png\">\n"
   ]
  },
  {
   "cell_type": "markdown",
   "metadata": {
    "collapsed": true
   },
   "source": [
    "## 31/08/2017\n",
    "\n",
    "Meeting with Christian. Needed to Apply cosine mask and zeropadding in real space, not Fourier space. This fixed the strange appearance of the white noise. For the next meeting aim to:\n",
    "\n",
    "* Fix scale of noise. Want $6\\mu \\mathrm{K}$ per pixel. $\\checkmark$ Implemented this such that this corresponds to the variance of the noise added to the cmb at timestream level. Does this change if we move to N obervations?\n",
    "* Substract CMB map and the averaged noise map to see the difference in real space $\\checkmark$ This is done for 50 obervations and the result shown below\n",
    "\n",
    "<img src = \"../cosmologydigitisation/Plots/05092017/cmbnoisecomparemap.png\">\n",
    "\n",
    "* Plot Powerspectra $\\checkmark$ this is again done for 50 noise maps\n",
    "\n",
    "<img src = \"../cosmologydigitisation/Plots/05092017/cmbnoisecompareps.png\">\n",
    "\n",
    "The difference has a mean of 0 within one $\\sigma$.\n",
    "\n",
    "* Digitise and compare powerspectra $\\checkmark$ Digitised 1Bit, 10 observations, comparison is below\n",
    "\n",
    "<img src = \"../cosmologydigitisation/Plots/05092017/ps1bit10obs.png\">\n",
    "\n",
    "Difference may not be identical with 0. Same calculation but now plotting $p_k \\times k (k+1)$ reveals a stronger discrepancy at intermediate modes.\n",
    "\n",
    "<img src = \"../cosmologydigitisation/Plots/05092017/pscl1bit10obs.png\">\n",
    "\n",
    "Repeated Digitisation for 5 maps and half maximum 2 bit digitisation. Result is below. Approx 3m runtime. Scales roughly with calls to digitisation.\n",
    "\n",
    "<img src = \"../cosmologydigitisation/Plots/05092017/ps2bithm5obs.png\">\n",
    "\n",
    "The difference has a mean of 0 within one $\\sigma$.\n",
    "\n",
    "* Use profiler to analyse where the code needs to be improved (see cprofiler, pstats for this) $\\checkmark$ Used this to reduce number of calls to normal(), decreased cumulative time for one noise map without digitisation from $2.875\\to 1.524$ Also removed use of deepcopy() Can look into a better approach for normalising the noise, but that has very little effect to other calculations\n",
    "* (See what happens when we add non-white noise)\n",
    "\n"
   ]
  },
  {
   "cell_type": "markdown",
   "metadata": {
    "collapsed": true
   },
   "source": [
    "## 11/09/2017\n",
    "\n",
    "Meeting with Christian. Very small difference for 1 bit case is very interesting. Investigate further by making the following adjustments for the next meeting:\n",
    "\n",
    "* Same Seed for Noise and for CMB $\\rightarrow$ saves time and makes comparison easier (also makes code tidier). $\\checkmark$ Done this for CMB, as much as possible for noise\n",
    "* Get code running on cloud spt (send SSH key and username to Christian) $\\checkmark$ Done\n",
    "* Investigate difference between powerspectra in terms of ratio $\\checkmark$ For 5 observations average ratio is $\\approx 97\\%$\n",
    "\n",
    "<img src = \"../cosmologydigitisation/Plots/19092017/psratio.png\">\n",
    "\n",
    "* Test how difference evolves with N Observations $\\checkmark$ Looks like $>20$ observations does not improve accuracy anymore\n",
    "\n",
    "Difference in Powerspectra\n",
    "<img src = \"../cosmologydigitisation/Plots/19092017/psdiff.png\">\n",
    "\n",
    "Average Difference with $N_{obs}$\n",
    "<img src = \"../cosmologydigitisation/Plots/19092017/avgdiffnobs.png\">\n",
    "\n",
    "* Look at errorbars of powerspectrum (probably fine but still) $\\checkmark$ Average error ratio is $\\approx 98.7\\%$ for 5 observations (digitised higher)"
   ]
  },
  {
   "cell_type": "markdown",
   "metadata": {
    "collapsed": true
   },
   "source": [
    "## 19/09/2017\n",
    "\n",
    "Meeting with Christian. Ratio plot is most interesting. For the next meeting investigate:\n",
    "\n",
    "* Different Digitisation Schemes (and plot as ratios) $\\checkmark$ Done. Results below. Note that the equal number scheme had to be discarded, since when averaging the tod we will get zero.\n",
    "\n",
    "<img src = \"../cosmologydigitisation/Plots/24092017/schemesmaps.png\">\n",
    "\n",
    "<img src = \"../cosmologydigitisation/Plots/24092017/schemesmapsdiff.png\">\n",
    "\n",
    "<img src = \"../cosmologydigitisation/Plots/24092017/psdigitschemes.png\">\n",
    "\n",
    "<img src = \"../cosmologydigitisation/Plots/24092017/psdigitschemesratiozoomshaded.png\">\n",
    "\n",
    "Notice how 1Bit is very close to the optimal 2Bit digitisation scheme. Notice how all schemes stay within $1\\%$ up until $\\approx 3\\times 10^3$ and within $5\\%$ up until $\\approx 6 \\times 10^3$. 1Bit and 2Bit opt are more well-behaved than 2Bit hm.\n",
    "\n",
    "* Read Maris et al. 2003 \"The effect of signal digitisation in CMB experiments\" $\\checkmark$ They focus on Satellite Transmission limitations. Key process: Quantisation, Reconstruction, Averaging (QRA). Focus seems to be on general digitisation, no outline of digitisation methods, bits etc. More likely to deal with 64/32bit rather than extreme compression. However because we need to normalise the tod we are in the regime $\\sigma_T/q \\approx 1$, which the paper touches upon.\n",
    "\n",
    "* Optional: Non-white noise of form $((\\frac{l_{knee}}{l})^{8/3}+1)C_{l}^{N}$ with $l_{knee} = 1000$ NOT DONE"
   ]
  },
  {
   "cell_type": "markdown",
   "metadata": {
    "collapsed": true
   },
   "source": [
    "## 25/09/2017\n",
    "\n",
    "Meeting with Christian. Interesting how close 1Bit and 2Bit optimal schemes evolve. Let's see if the above behaviour relaxes a bit if we average over 100 CMB seeds. To do this run on cloud with multi-processors.\n",
    "\n",
    "* Import 3G environment (batch script?)\n",
    "* use mpirun\n",
    "* get pythonscript that generates the cmb seeds and then calls usual script\n",
    "\n",
    "Propose use of mpi4py, would make things a little more straightforward, already installed.\n",
    "\n",
    "* Environment already present on cloud without any further setup\n",
    "* IO should be okay. Have 4 output maps per seed, have 100 seeds $\\approx 500$ maps. Each map takes about 7MB, therefore need around 3.5GB, have approx. 80GB available\n",
    "* Should be able to take 12 cores for a day without stepping on someones toes\n",
    "\n",
    "$\\checkmark$ Currently running on cloud, completed 10 seeds for 12 ranks, getting a smoothed out results. running again to get even more data.\n",
    "\n",
    "Ran over 240 seeds in total. Comparison below to a single seed to see smoothed out behaviour.\n",
    "\n",
    "<img src = \"../cosmologydigitisation/Plots/25092017/psratio1seed240seeds.png\">\n",
    "\n",
    "Now focus on the many seeds and observe how all is within $0.1\\%$ until $k \\approx 3-4 \\times 10^3$. 1 bit and 2 bit optimal still follow each other closely, but 2 bit optimal has best performance.\n",
    "\n",
    "<img src = \"../cosmologydigitisation/Plots/25092017/manyseedsratio.png\">\n"
   ]
  },
  {
   "cell_type": "markdown",
   "metadata": {
    "collapsed": true
   },
   "source": [
    "## 03/10/2017\n",
    "\n",
    "Meeting with Christian. The remaining features in the smoothed out ratio are most likely still due to sample size. Ratio going off in the end probably due to the low value of the powerspectrum. For the next meeting:\n",
    "\n",
    "* Read about TEB-IQU in mapmaking section of thesis\n",
    "* Schedule availability on astro group doodle poll to have a talk in October-December time $\\checkmark$ Volunteered for December 4th\n",
    "* Would also like to investigate PSVL issues and non-white noise effects\n",
    "\n",
    "Also mentioned:\n",
    "* Literature Review in March time, also discuss thesis structure then\n",
    "* Another talk in May-July time\n",
    "* Complete Advanced Seminar before the end of next Semester\n",
    "\n",
    "Additionally:\n",
    "* Going well with research, have 3 weeks off starting after next meeting to focus on exams & assignments"
   ]
  },
  {
   "cell_type": "markdown",
   "metadata": {
    "collapsed": true
   },
   "source": [
    "## 16/11/2017\n",
    "\n",
    "Meeting with Christian. Start Research back up. Focus will now be:\n",
    "\n",
    "* Non-white noise\n",
    "* Cluster-finder\n",
    "* Polarisation\n",
    "\n",
    "For now non-white noise. Make a PSD for noise, then into 2D Map fourier, then real, then add to TOD data. Use $(1+(k/k_{knee})^{-8/3})$ like form for a start. Place $k_{knee}$ around 100-1000 so that we get a dynamic range around it and can figure out qualitatively what happens left, around and right of it."
   ]
  },
  {
   "cell_type": "markdown",
   "metadata": {
    "collapsed": true
   },
   "source": [
    "## 22/12/2017\n",
    "\n",
    "Meeting with Christian. Go to AIP. Okay to take time off for nationals. Uni will pay for registration and accomodation and travel difference if reasonable.\n",
    "\n",
    "Fix non-wn PS by maybe not cutting map into a quarter before transforming? Otherwise move to doing it as a long 1D array that goes along the scan strategy. Therefore also non-wn in time (okay for 1 detector approx.).\n",
    "\n",
    "Show Christian presentation on Friday."
   ]
  },
  {
   "cell_type": "markdown",
   "metadata": {},
   "source": [
    "## 27/12/2017\n",
    "\n",
    "Presentation at the group meeting. Went well. A few pointers:\n",
    "\n",
    "* Need to get better at answering questions\n",
    "* More on motivation\n",
    "* Units on noise\n",
    "\n",
    "Do a more thorough analysis on noise now. Seems rather high. Check with observation number. Check for different digitisation schemes."
   ]
  },
  {
   "cell_type": "markdown",
   "metadata": {},
   "source": [
    "## 01/12/2017\n",
    "\n",
    "Done a more detailed review of Parseval's theorem. Tracing power through the code.\n",
    "\n",
    "* Start out with good Powerspectrum provided by $D_l$\n",
    "* Need to understand how this relates to the power in 2D array of $C_l$\n",
    "* Unclear how the factor $\\sqrt{\\frac{df}{2}C_l}$ conserves power or restores it\n",
    "* Power of cmb freq map is not the same as factor, because\n",
    "\n",
    "$ \\sum_i |f_i \\times [N(0, 1) + iN(0, 1)] |^2 = \\sum_i |f_i|^2 [N(0, 1)^2 + N(0, 1)^2] \\neq \\sum_i |f_i|^2$\n",
    "\n",
    "* After this however more straightforward. Frequency space power $\\times 1/A = $ real space power after ifft\n",
    "* Cutting the map into a quarter roughly cuts the power into a quarter\n",
    "* Disregarding the imaginary part of the real space map again roughly halves the power\n",
    "* Zeropadding adds no power but must be careful to adjust wavevector appropriately\n",
    "* Masking introduces a factor of roughly mean(mask^2) but this is nowhere near accurate\n",
    "* Power preserved in PSD, need to adjust mapparameters for appropriate zeropadding\n",
    "* Power preserved through radial averaging\n",
    "\n",
    "Therefore cannot obtain correct scaling on y axis at the moment. Do get peaks at correct $l$. Relative strength of peaks also ok. Need to convene with Christian about these issues.\n",
    "\n",
    "With regard to map size: At the moment can get down to $l = 5.3$\n",
    "\n",
    "Noise level: Want something like $2.5\\mu K^2$ across the entire survey. Hence for each observation need to have $\\times \\sqrt{N_{obs}}$. But surely this is across each map. how does this translate to a TOD level? Surely need to multiply again by $\\times \\sqrt{N_{compression}}$\n",
    "\n",
    "Now set digitisation levels arbitrary and power normalise maps and look at the resulting powerspectra. Levels just don't seem arbitrary. Multiplying the final map with a constant factor seems challenging. Means we introduce A LOT of power. Need to look at this further.\n",
    "\n",
    "<img src = \"../cosmologydigitisation/Plots/14122017/inputps.png\">\n",
    "\n",
    "<img src = \"../cosmologydigitisation/Plots/14122017/observedps.png\">\n",
    "\n",
    "<img src = \"../cosmologydigitisation/Plots/14122017/cmbdigitmap.png\">\n",
    "\n",
    "<img src = \"../cosmologydigitisation/Plots/14122017/cmbdigitps.png\">\n"
   ]
  },
  {
   "cell_type": "markdown",
   "metadata": {
    "collapsed": true
   },
   "source": [
    "## 15/12/2017\n",
    "\n",
    "Finished tracing the power. We do the following operations to the map:\n",
    "\n",
    "* iFFT\n",
    "* Cut into a quarter\n",
    "* Take real part\n",
    "* Mask\n",
    "* Zero-pad\n",
    "* FFT\n",
    "* Radial Average\n",
    "\n",
    "Which can be accounted for in power as:\n",
    "\n",
    "* $\\times N^2$\n",
    "* $\\times 4$\n",
    "* $\\times 2$\n",
    "* $\\times \\frac{N^2}{\\sum_i w_i^2}$\n",
    "* $\\times 1$\n",
    "* $\\times \\frac{1}{N^2}$\n",
    "* $\\times \\mathrm{hits}$\n",
    "\n",
    "In summary we can correct for the power in the powerspectrum as\n",
    "\n",
    "$$ \\mathrm{PowerFrequencyMap} = 8 \\times N \\times N \\times \\mathrm{hits} \\times \\mathrm{Powerspectrum} $$\n",
    "\n",
    "where $N$ is the original number of pixels, i.e. $1024$\n",
    "\n",
    "To now compare to the factor $\\sqrt{\\frac{df}{2}C_l}$ we need to introduce a factor of $1/2$, since we multiply by two $N(0, 1)$ sequences to get a frequency space realisation.\n",
    "\n",
    "This gives the correct power conversion between factor and powerspectrum as shown by the plot below. However we are still missing the input powerspectrum by a small figure. Notice that this is non-constant?! Maybe analysis w.r.t. $l$ is necessary. We think that our formulation of the factor misses some power. We exclude the idea that we are missing an additional contribution in the factor. We redo the CL2D calculation to make sure there is no error in here. $df$ seems correct.\n",
    "\n",
    "Following plots for 500 realisations.\n",
    "\n",
    "<img src = \"../cosmologydigitisation/Plots/19122017/powfactorps.png\">\n",
    "\n",
    "<img src = \"../cosmologydigitisation/Plots/19122017/psratio500runs.png\">\n",
    "\n"
   ]
  },
  {
   "cell_type": "markdown",
   "metadata": {
    "collapsed": true
   },
   "source": [
    "## 20/12/2017\n",
    "\n",
    "Meeting with Christian. Check white noise to see if I am just missing a factor or if I'm pushing power into lower modes. Also change map size and resolution to see if this induces a change to see whether I'm just missing a factor or what is going on.\n",
    "\n",
    "Over 500 runs have found $1.192\\pm0.008$ as a factor. not really sure what this matches....\n",
    "Factor fixes the spectrum for now. what happens at low l? Below Nyquist? Using $l\\sim \\frac{180 deg}{\\theta}$ and we have a map size of $1024$ arcminutes we cna get down to something like $l \\sim 10$.\n",
    "Get large power at low l starting at around 60 however. this is well above the Nyquist. Change the map map parameters to be sure.\n",
    "\n",
    "<img src = \"../cosmologydigitisation/Plots/22122017/psfacadj.png\">\n",
    "\n",
    "Compare Real Space Map Parameters.\n",
    "\n",
    "1.) Fieldsize: 1024 arcminutes, resolution: 2 arcminutes\n",
    "\n",
    "2.) Fieldsize: 2048 arcminutes, resolution: 2 arcminutes\n",
    "\n",
    "3.) Fieldsize: 1024 arcminutes, resolution: 1 arcminute\n",
    "\n",
    "Fixed issue with creating CL2D code taking too long, but now get nearly constant CL2D. Trying to figure out why this is. Maybe need slightly different map parameters to sample provided PS properly. Not really... Always get an exponentially rising PS, no structure...\n",
    "\n",
    "<img src = \"../cosmologydigitisation/Plots/22122017/psexpo.png\">\n",
    "\n",
    "\n",
    "\n",
    "25/01/2018\n",
    "\n",
    "Some underlying chessboard pattern in map. Investigate creation of map further. White noise works.... No need to use fftshift when creating cl2d!!! fixed the powerspectrum!\n",
    "\n",
    "Now get correct shapes, but 1 and 4 resolutions are squeezed/stretched by a factor of 0.5 and 2 along the horizontal respectively...\n",
    "\n",
    "PS code was overwriting the correctly passed resolution information. changed this. PS scale looks good. Now focussing on height. res 1 is a factor of 4 too small. res of 4 is a factor of 4 too big. Found an old inflexible adjustment (1024 instead of pixelnumber) - changed this, fixed the height of the PS.\n",
    "\n",
    "Next change the field size to see if the code still gets the correct power.\n",
    "\n",
    "Changing the field size seems to introduce a simple factor of 2 for going to 1024 and 0.5 for going to 4096 (both from 2048). not sure where this comes from, but can easily be adjusted for. Is this okay to do? We are doing some magic number adjustment before soooo? But this is field size dependent... NOT resolution.... maybe somewhere multiply by fieldsize when it should be map pixelnumber?! No this is not being done...\n",
    "\n",
    "30/01/2018\n",
    "\n",
    "Produced plots for all fieldsize/resolution combinations showing the corrected powerspectrum. Need to clarify whether this adjustment is justified in meeting tomorrow and look into what next, scan strategy ok? Induced noise at correct level? Noise creation mechanism?"
   ]
  },
  {
   "cell_type": "code",
   "execution_count": null,
   "metadata": {
    "collapsed": true
   },
   "outputs": [],
   "source": []
  }
 ],
 "metadata": {
  "kernelspec": {
   "display_name": "Python 3",
   "language": "python",
   "name": "python3"
  },
  "language_info": {
   "codemirror_mode": {
    "name": "ipython",
    "version": 3
   },
   "file_extension": ".py",
   "mimetype": "text/x-python",
   "name": "python",
   "nbconvert_exporter": "python",
   "pygments_lexer": "ipython3",
   "version": "3.5.2"
  }
 },
 "nbformat": 4,
 "nbformat_minor": 2
}
