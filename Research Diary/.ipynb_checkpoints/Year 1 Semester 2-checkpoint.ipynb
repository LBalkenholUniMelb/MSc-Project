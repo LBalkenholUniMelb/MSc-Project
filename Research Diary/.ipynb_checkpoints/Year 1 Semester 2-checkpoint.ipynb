{
 "cells": [
  {
   "cell_type": "markdown",
   "metadata": {},
   "source": [
    "# Year 1 Semester 2 Research Diary\n",
    "\n",
    "------------------------------------------------------"
   ]
  },
  {
   "cell_type": "markdown",
   "metadata": {},
   "source": [
    "## Until 02/08/2017"
   ]
  },
  {
   "cell_type": "markdown",
   "metadata": {},
   "source": [
    "The produced code is able to create white noise and convolute it with CMB data. The resulting map is close to what is observed. Efforts to recreate a scan strategy and dissect the map into bolometer signals have been made. However when recompressed into a map there is a substantial difference to the original map, indicating an error somewhere during the dissection and reconstrusction."
   ]
  },
  {
   "cell_type": "markdown",
   "metadata": {},
   "source": [
    "The code to create the CMB map works in the following way:\n",
    "\n",
    "1. Define map parameters. We choose a square map of 2048\" sidelength.\n",
    "1. Read in CMB data. Specifically target $l$ and $D_l$ values, which are the first and second column of the provided in the file *for_lennart/plik_plus_r0p01_highell_lensedtotCls.dat* respectively. Then use $C_l = \\frac{2 \\pi D_l}{l(l+1)}$ to get $C_l$ values for further analysis.\n",
    "1. Turn obtained $C_l$ values into a 2D array.\n",
    "    1. Create wavevectors along each dimension for provided map parameters.\n",
    "    1. Tile wavevectors to get 2D versions.\n",
    "    1. Use $C_l = \\sqrt{k_x^2+k_y^2}$ to populate two dimensional $C_l$ array.\n",
    "1. Create noise in Fourier space.\n",
    "1. Add signal via $\\mathrm{CMB} = \\sqrt{C_l \\frac{df}{2}} \\times (\\mathrm{realnoise} + i \\times \\mathrm{imaginarynoise})$\n",
    "1. Inverse FFT to get the real map, but only keep a quarter\n",
    "\n",
    "The code produces CMB maps that look like the following. Note that creating the 2D version of $C_l$ is computationally expensive and hence the array was only computed once, then saved and is now loaded. Since this is purely the CMB signal and does not contain noise yet this is adequate.\n",
    "\n",
    "<img src = \"../cosmologydigitisation/Plots/03082017/cmbsignalandwhitenoise.png\">"
   ]
  },
  {
   "cell_type": "markdown",
   "metadata": {
    "collapsed": true
   },
   "source": [
    "## 03/08/2017"
   ]
  },
  {
   "cell_type": "markdown",
   "metadata": {},
   "source": [
    "Meeting with Christian to discuss progress. Guidance on when to implement noise provided: either at the bolometer stage or when creating the map from its Fourier Transform, but not both.\n",
    "\n",
    "For the next meeting aim to:\n",
    "* Be able to recreate maps accurately, after decomposing them into bolometer signals and recombining them.\n",
    "* Check Parseval's Theorem.\n",
    "\n",
    "Agreed to schedule meetings more regularly and set clearer expectations."
   ]
  },
  {
   "cell_type": "code",
   "execution_count": null,
   "metadata": {
    "collapsed": true
   },
   "outputs": [],
   "source": []
  }
 ],
 "metadata": {
  "kernelspec": {
   "display_name": "Python 3",
   "language": "python",
   "name": "python3"
  },
  "language_info": {
   "codemirror_mode": {
    "name": "ipython",
    "version": 3
   },
   "file_extension": ".py",
   "mimetype": "text/x-python",
   "name": "python",
   "nbconvert_exporter": "python",
   "pygments_lexer": "ipython3",
   "version": "3.5.2"
  }
 },
 "nbformat": 4,
 "nbformat_minor": 2
}
