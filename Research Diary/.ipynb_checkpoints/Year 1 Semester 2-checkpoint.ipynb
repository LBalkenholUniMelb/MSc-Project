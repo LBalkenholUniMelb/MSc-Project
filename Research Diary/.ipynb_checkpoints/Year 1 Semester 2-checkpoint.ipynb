{
 "cells": [
  {
   "cell_type": "markdown",
   "metadata": {},
   "source": [
    "# Year 1 Semester 2 Research Diary\n",
    "\n",
    "------------------------------------------------------"
   ]
  },
  {
   "cell_type": "markdown",
   "metadata": {},
   "source": [
    "## Until 02/08/2017\n",
    "\n",
    "The produced code is able to create white noise and convolute it with CMB data. The resulting map is close to what is observed. Efforts to recreate a scan strategy and dissect the map into bolometer signals have been made. However when recompressed into a map there is a substantial difference to the original map, indicating an error somewhere during the dissection and reconstrusction.\n",
    "\n",
    "The code to create the CMB map works in the following way:\n",
    "\n",
    "1. Define map parameters. We choose a square map of 2048\" sidelength.\n",
    "1. Read in CMB data. Specifically target $l$ and $D_l$ values, which are the first and second column of the provided in the file *for_lennart/plik_plus_r0p01_highell_lensedtotCls.dat* respectively. Then use $C_l = \\frac{2 \\pi D_l}{l(l+1)}$ to get $C_l$ values for further analysis.\n",
    "1. Turn obtained $C_l$ values into a 2D array.\n",
    "    1. Create wavevectors along each dimension for provided map parameters.\n",
    "    1. Tile wavevectors to get 2D versions.\n",
    "    1. Use $C_l = \\sqrt{k_x^2+k_y^2}$ to populate two dimensional $C_l$ array.\n",
    "1. Create noise in Fourier space.\n",
    "1. Add signal via $\\mathrm{CMB} = \\sqrt{C_l \\frac{df}{2}} \\times (\\mathrm{realnoise} + i \\times \\mathrm{imaginarynoise})$\n",
    "1. Inverse FFT to get the real map, but only keep a quarter\n",
    "\n",
    "The code produces CMB maps that look like the following. Note that creating the 2D version of $C_l$ is computationally expensive and hence the array was only computed once, then saved and is now loaded. Since this is purely the CMB signal and does not contain noise yet this is adequate.\n",
    "\n",
    "<img src = \"../cosmologydigitisation/Plots/03082017/cmbsignalandwhitenoise.png\">"
   ]
  },
  {
   "cell_type": "markdown",
   "metadata": {},
   "source": [
    "## 03/08/2017\n",
    "\n",
    "Meeting with Christian to discuss progress. Guidance on when to implement noise provided: either at the bolometer stage or when creating the map from its Fourier Transform, but not both.\n",
    "\n",
    "For the next meeting aim to:\n",
    "* Be able to recreate maps accurately, after decomposing them into bolometer signals and recombining them.\n",
    "* Check Parseval's Theorem.\n",
    "\n",
    "Agreed to schedule meetings more regularly and set clearer expectations."
   ]
  },
  {
   "cell_type": "markdown",
   "metadata": {},
   "source": [
    "## 08/08/2017 - 09/08/2017\n",
    "\n",
    "Data intensive astronomy workshop ADACS."
   ]
  },
  {
   "cell_type": "markdown",
   "metadata": {
    "collapsed": true
   },
   "source": [
    "## 10/08/2017\n",
    "\n",
    "Completed Version Control setup on personal laptop and university computer."
   ]
  },
  {
   "cell_type": "markdown",
   "metadata": {},
   "source": [
    "# 12/08/2017\n",
    "\n",
    "## Parseval's theorem\n",
    "\n",
    "We would like to confirm Parseval's theorem, which states that power is conserved when moving between real and frequency space. Expressed mathematically:\n",
    "\n",
    "$$\\sum_n |x(n)|^2 = \\frac{1}{N} \\sum_n |X(n)|^2,$$\n",
    "\n",
    "where $X(n)$ is the discrete Fourier transform of $x(n)$, both of length $N$. In our case we must carry out the summation over the entire image, i.e. two dimensions.\n",
    "\n",
    "Straightforward implementation of this confirms this for the CMB map. We immediately check this after applying the inverse Fourier transform. Confirmation of the above is less trivial for the finished map, as we cut the inverse Fourier transform output into a quarter. To check that Parseval's theorem still holds we draw many noise realisations, apply the inverse Fourier transform and compare the power to their corresponding maps in frequency space.\n",
    "\n",
    "\n",
    "\n",
    "```\n",
    "psvindex = range(100)\n",
    "powdiff = []\n",
    "\n",
    "for i in psvindex:\n",
    "    realpart = factor * normal(size=(pixelnumber, pixelnumber))\n",
    "    imagpart = factor * normal(size=(pixelnumber, pixelnumber))\n",
    "    cmbnoisefreqspace = (realpart + 1j * imagpart)\n",
    "    cmbnoisemap = fft.ifft2(cmbnoisefreqspace)[0:int(pixelnumber/2), 0:int(pixelnumber/2)]\n",
    "    psvfreq = real(sum(cmbnoisefreqspace * conjugate(cmbnoisefreqspace)))\n",
    "    psvreal = real(sum(cmbnoisemap * conjugate(cmbnoisemap))) * 4 * pixelnumber**2\n",
    "    powdiff.append((psvfreq-psvreal)/psvfreq)\n",
    "```\n",
    "\n",
    "We define $\\Delta P = (P_f-P_r)/P_f $ where $P$ indicates power and $f$ and $r$ Fourier and real space respectively. We plot $\\Delta P$ and show mean and standard deviation thereof below.\n",
    "\n",
    "<img src = \"../cosmologydigitisation/Plots/12082017/relativepowerdifference.png\">\n",
    "\n",
    "From the plot we see that the powers are consistent over many iterations, albeit the crude cutting of the real space map. We note that we must perform this check before throwing away the imaginary component of the real space map.\n",
    "\n",
    "We now check if power is conserved in Srini's powerspectrum code. This is not the case. We spot that the Fourier transform of the image is multiplied by the radial pixel resolution, which changes the power. We remove this extra factor and observe that Parseval's theorem is restored.\n",
    "\n",
    "To check whether power is conserved during the radial averaging process we must retain information about the number of pixels in each radial bin. We then check Parseval's theorem by multiplying each radial power by its bincount and then summing the results. We achieve a result that is appreciably close to the original power, but nevertheless different. Redefining $\\Delta P = (P_0-P_r)/P_0$ and drawing 100 realisations we observe the behaviour displayed below.\n",
    "\n",
    "<img src = \"../cosmologydigitisation/Plots/12082017/powerdiffradial.png\">\n",
    "\n",
    "The only explanation we can think of is that this is an effect due to lying circular bins over a rectangular image.\n",
    "\n",
    "## Recreating Scan Strategies appropriately\n",
    "\n",
    "We have previously found inconsistencies between a map and a copy of it, which was broken down into bolometer signals and then recompressed. We investigate this difference now.\n",
    "\n",
    "Recreation and Compression code runs extremely slow on laptop. Unsure how to improve this. We need to iterate over every pixel in the map to break it up into bolometer signals. We need to iterate over all bolometer signals to compress them correctly into the map again. We are unsure if taking the resolution down is appropriate, since it may not capture all CMB features appropriately. To check if the code is correct we take the number of bolometer signals that correspond to a map pixel down from 4000 to 120. This is done by changing the readout frequency from $500\\mathrm{Hz}$ to $6\\mathrm{Hz}$. We then formulate $\\Delta M = (M_0-M_r)/M_0$ where $M0$ are elements of the original map and $M_r$ are elements of the map that has been expanded and compressed. The result is distinctly non-zero. However, $\\Delta M$ is very small and it appears to look like white noise. We check this by calculating its powerspectrum, which confirms this intuition. The relevant plots are shown below.\n",
    "\n",
    "<img src = \"../cosmologydigitisation/Plots/12082017/mapdiff.png\">\n",
    "\n",
    "<img src = \"../cosmologydigitisation/Plots/12082017/mapdiffpower.png\">\n",
    "\n",
    "Furthermore we confirm that the average of $\\Delta M$ is consistent with zero within one standard deviation.\n",
    "\n",
    "We therefore have confidence that the code written is correct. Perhaps the error experienced was due to including additional noise when recreating the scan strategy. Without doing this we are however unsure how a faithful digitisation would work that operates at timestream level."
   ]
  },
  {
   "cell_type": "code",
   "execution_count": null,
   "metadata": {
    "collapsed": true
   },
   "outputs": [],
   "source": []
  }
 ],
 "metadata": {
  "kernelspec": {
   "display_name": "Python 3",
   "language": "python",
   "name": "python3"
  },
  "language_info": {
   "codemirror_mode": {
    "name": "ipython",
    "version": 3
   },
   "file_extension": ".py",
   "mimetype": "text/x-python",
   "name": "python",
   "nbconvert_exporter": "python",
   "pygments_lexer": "ipython3",
   "version": "3.5.2"
  }
 },
 "nbformat": 4,
 "nbformat_minor": 2
}
