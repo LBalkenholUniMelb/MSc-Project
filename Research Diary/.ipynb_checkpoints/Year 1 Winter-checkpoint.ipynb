{
 "cells": [
  {
   "cell_type": "markdown",
   "metadata": {},
   "source": [
    "# Year 1 Winter Research Diary\n",
    "\n",
    "---"
   ]
  },
  {
   "cell_type": "markdown",
   "metadata": {},
   "source": [
    "## 16/06/2017"
   ]
  },
  {
   "cell_type": "markdown",
   "metadata": {},
   "source": [
    "Phone call with Christian to decide on a research topic. The different areas suggested were:\n",
    "* CMB Data Digitisation\n",
    "    * J. Max, *Quantizing for Minimum Distortion*, 1978\n",
    "    * P.W. Clearwater, *Analysing one- and two-bit data to reduce memory requirements for F-statistic–based gravitational wave searches*, 2016\n",
    "* CMB Delensing and Foregrounds\n",
    "    * [Delensing Demo](https://arxiv.org/abs/1701.04396)\n",
    "    * Examples of how foregrounds where dealt with: [Lensing](https://arxiv.org/abs/1412.4760), [Temperature Lensing](https://arxiv.org/abs/1705.00743)\n",
    "    * [Guide to what might be done in terms of component seperation for foregrounds](https://arxiv.org/abs/1704.04501)\n",
    "* CMB Data Analysis\n",
    "    * [B-mode analysis for the null test, data selection, etc.](https://tel.archives-ouvertes.fr/tel-01257383v1)\n",
    "    * [Polarisation fraction measurement](https://cmb-s4.org/CMB-S4workshops/index.php/File:sptpol_ptsrc_polfrac_500d.pdf)\n"
   ]
  },
  {
   "cell_type": "markdown",
   "metadata": {},
   "source": [
    "## 22/06/2017"
   ]
  },
  {
   "cell_type": "markdown",
   "metadata": {},
   "source": [
    "Began work on Data Digitisation aided by Srini. First step was creating a code framework that would produce white noise maps. Such an environment was created, written in a very object-oriented style. Code can be found in the project *whitenoisegeneration* and *cosmologydigitisation*."
   ]
  },
  {
   "cell_type": "markdown",
   "metadata": {},
   "source": [
    "## 03/08/2017"
   ]
  },
  {
   "cell_type": "markdown",
   "metadata": {},
   "source": [
    "After various meetings and iterations created boiled down version of the noise generator code. Transition to Year 1 Semester 2 research diary."
   ]
  }
 ],
 "metadata": {
  "kernelspec": {
   "display_name": "Python 3",
   "language": "python",
   "name": "python3"
  },
  "language_info": {
   "codemirror_mode": {
    "name": "ipython",
    "version": 3
   },
   "file_extension": ".py",
   "mimetype": "text/x-python",
   "name": "python",
   "nbconvert_exporter": "python",
   "pygments_lexer": "ipython3",
   "version": "3.5.2"
  }
 },
 "nbformat": 4,
 "nbformat_minor": 2
}
